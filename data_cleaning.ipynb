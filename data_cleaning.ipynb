{
 "cells": [
  {
   "cell_type": "code",
   "execution_count": 19,
   "id": "98d5f787-e5fe-481a-9fe6-3e8d46ec41e7",
   "metadata": {},
   "outputs": [],
   "source": [
    "import pandas as pd\n",
    "import numpy as np\n",
    "from datetime import datetime"
   ]
  },
  {
   "cell_type": "code",
   "execution_count": 26,
   "id": "42e1594f-df60-46ba-9dd8-f5574ff0f542",
   "metadata": {},
   "outputs": [
    {
     "name": "stdout",
     "output_type": "stream",
     "text": [
      "Loading dataset...\n"
     ]
    }
   ],
   "source": [
    "print(\"Loading dataset...\")\n",
    "df = pd.read_csv('/Users/Sai/Downloads/task1/Raw_Medical_Appoinment.csv')\n",
    "\n",
    "original_shape = df.shape\n",
    "\n"
   ]
  },
  {
   "cell_type": "code",
   "execution_count": 27,
   "id": "4e7d32b7-a006-4228-a994-c44e4dd29acf",
   "metadata": {},
   "outputs": [
    {
     "name": "stdout",
     "output_type": "stream",
     "text": [
      "\n",
      "Cleaning column names...\n"
     ]
    }
   ],
   "source": [
    "print(\"\\nCleaning column names...\")\n",
    "df.columns = df.columns.str.lower().str.replace('-', '_').str.replace(' ', '_')\n",
    "\n",
    "\n"
   ]
  },
  {
   "cell_type": "code",
   "execution_count": 28,
   "id": "ae78b8a6-6472-4ab5-92f6-0b382655150e",
   "metadata": {},
   "outputs": [
    {
     "name": "stdout",
     "output_type": "stream",
     "text": [
      "\n",
      "Converting date columns...\n"
     ]
    }
   ],
   "source": [
    "print(\"\\nConverting date columns...\")\n",
    "df['scheduledday'] = pd.to_datetime(df['scheduledday'])\n",
    "df['appointmentday'] = pd.to_datetime(df['appointmentday'])\n",
    "\n",
    "\n"
   ]
  },
  {
   "cell_type": "code",
   "execution_count": 29,
   "id": "ee296a8d-d162-46fc-b3a4-004cd10a5869",
   "metadata": {},
   "outputs": [
    {
     "name": "stdout",
     "output_type": "stream",
     "text": [
      "\n",
      "Fixing data types...\n"
     ]
    }
   ],
   "source": [
    "print(\"\\nFixing data types...\")\n",
    "\n",
    "df['age'] = df['age'].astype(int)\n",
    "\n"
   ]
  },
  {
   "cell_type": "code",
   "execution_count": 30,
   "id": "620ab560-399d-466d-b310-66549e600430",
   "metadata": {},
   "outputs": [],
   "source": [
    "binary_columns = ['scholarship', 'hipertension', 'diabetes', 'alcoholism', 'sms_received']\n",
    "for col in binary_columns:\n",
    "    df[col] = df[col].astype(int)\n",
    "\n"
   ]
  },
  {
   "cell_type": "code",
   "execution_count": 31,
   "id": "a4b7aecf-9d4b-4816-a297-764da44c87ae",
   "metadata": {},
   "outputs": [],
   "source": [
    "df['gender'] = df['gender'].str.lower()\n",
    "\n",
    "\n",
    "df['no_show'] = (df['no_show'] == 'Yes').astype(int)\n"
   ]
  },
  {
   "cell_type": "code",
   "execution_count": 32,
   "id": "741355ed-b98d-4277-a2fb-86eab3e3f0e7",
   "metadata": {},
   "outputs": [
    {
     "name": "stdout",
     "output_type": "stream",
     "text": [
      "\n",
      "Handling missing values...\n",
      "Missing values before cleaning:\n",
      "patientid         0\n",
      "appointmentid     0\n",
      "gender            0\n",
      "scheduledday      0\n",
      "appointmentday    0\n",
      "age               0\n",
      "neighbourhood     0\n",
      "scholarship       0\n",
      "hipertension      0\n",
      "diabetes          0\n",
      "alcoholism        0\n",
      "handcap           0\n",
      "sms_received      0\n",
      "no_show           0\n",
      "dtype: int64\n"
     ]
    }
   ],
   "source": [
    "print(\"\\nHandling missing values...\")\n",
    "print(\"Missing values before cleaning:\")\n",
    "print(df.isnull().sum())\n",
    "\n"
   ]
  },
  {
   "cell_type": "code",
   "execution_count": 33,
   "id": "a7ff17ad-fad0-40f7-8913-47954828339a",
   "metadata": {},
   "outputs": [],
   "source": [
    "\n",
    "numeric_cols = df.select_dtypes(include=[np.number]).columns\n",
    "for col in numeric_cols:\n",
    "    df[col] = df[col].fillna(df[col].median())\n",
    "\n",
    "categorical_cols = df.select_dtypes(include=['object']).columns\n",
    "for col in categorical_cols:\n",
    "    df[col] = df[col].fillna(df[col].mode()[0])\n",
    "\n",
    "\n"
   ]
  },
  {
   "cell_type": "code",
   "execution_count": 34,
   "id": "9cf4d121-ec2c-423c-a808-0685541689be",
   "metadata": {},
   "outputs": [
    {
     "name": "stdout",
     "output_type": "stream",
     "text": [
      "\n",
      "Removing duplicates...\n",
      "Removed 0 duplicate rows\n"
     ]
    }
   ],
   "source": [
    "print(\"\\nRemoving duplicates...\")\n",
    "initial_rows = len(df)\n",
    "df = df.drop_duplicates()\n",
    "removed_rows = initial_rows - len(df)\n",
    "print(f\"Removed {removed_rows} duplicate rows\")\n"
   ]
  },
  {
   "cell_type": "code",
   "execution_count": 35,
   "id": "fc66fcd5-40fe-41ec-87da-4ded69b9a620",
   "metadata": {},
   "outputs": [
    {
     "name": "stdout",
     "output_type": "stream",
     "text": [
      "\n",
      "Adding derived features...\n"
     ]
    }
   ],
   "source": [
    "print(\"\\nAdding derived features...\")\n",
    "df['days_until_appointment'] = (df['appointmentday'] - df['scheduledday']).dt.days\n"
   ]
  },
  {
   "cell_type": "code",
   "execution_count": 36,
   "id": "9ebb7040-bf80-4f3c-b2ca-5409f875f76e",
   "metadata": {},
   "outputs": [
    {
     "name": "stdout",
     "output_type": "stream",
     "text": [
      "\n",
      "Cleaning Summary:\n",
      "--------------------------------------------------\n",
      "Original shape: (110527, 14)\n",
      "Final shape: (110527, 15)\n",
      "Duplicates removed: 0\n",
      "\n",
      "Columns in cleaned dataset:\n",
      "- patientid: float64\n",
      "- appointmentid: int64\n",
      "- gender: object\n",
      "- scheduledday: datetime64[ns, UTC]\n",
      "- appointmentday: datetime64[ns, UTC]\n",
      "- age: int64\n",
      "- neighbourhood: object\n",
      "- scholarship: int64\n",
      "- hipertension: int64\n",
      "- diabetes: int64\n",
      "- alcoholism: int64\n",
      "- handcap: int64\n",
      "- sms_received: int64\n",
      "- no_show: int64\n",
      "- days_until_appointment: int64\n",
      "\n",
      "Missing values after cleaning:\n",
      "patientid                 0\n",
      "appointmentid             0\n",
      "gender                    0\n",
      "scheduledday              0\n",
      "appointmentday            0\n",
      "age                       0\n",
      "neighbourhood             0\n",
      "scholarship               0\n",
      "hipertension              0\n",
      "diabetes                  0\n",
      "alcoholism                0\n",
      "handcap                   0\n",
      "sms_received              0\n",
      "no_show                   0\n",
      "days_until_appointment    0\n",
      "dtype: int64\n"
     ]
    }
   ],
   "source": [
    "print(\"\\nCleaning Summary:\")\n",
    "print(\"-\" * 50)\n",
    "print(f\"Original shape: {original_shape}\")\n",
    "print(f\"Final shape: {df.shape}\")\n",
    "print(f\"Duplicates removed: {removed_rows}\")\n",
    "print(\"\\nColumns in cleaned dataset:\")\n",
    "for col in df.columns:\n",
    "    print(f\"- {col}: {df[col].dtype}\")\n",
    "\n",
    "print(\"\\nMissing values after cleaning:\")\n",
    "print(df.isnull().sum())\n"
   ]
  },
  {
   "cell_type": "code",
   "execution_count": 37,
   "id": "acc1ae4a-8bf9-49cf-86d9-7db04d6196c3",
   "metadata": {},
   "outputs": [
    {
     "name": "stdout",
     "output_type": "stream",
     "text": [
      "\n",
      "Saving cleaned dataset...\n",
      "Cleaned dataset saved as 'cleaned_medical_appointment.csv'\n"
     ]
    }
   ],
   "source": [
    "print(\"\\nSaving cleaned dataset...\")\n",
    "df.to_csv('cleaned_medical_appointment.csv', index=False)\n",
    "print(\"Cleaned dataset saved as 'cleaned_medical_appointment.csv'\")"
   ]
  },
  {
   "cell_type": "code",
   "execution_count": null,
   "id": "b6ac1081-ed1f-4a84-ac99-047bc7f82d4c",
   "metadata": {},
   "outputs": [],
   "source": []
  }
 ],
 "metadata": {
  "kernelspec": {
   "display_name": "Python 3 (ipykernel)",
   "language": "python",
   "name": "python3"
  },
  "language_info": {
   "codemirror_mode": {
    "name": "ipython",
    "version": 3
   },
   "file_extension": ".py",
   "mimetype": "text/x-python",
   "name": "python",
   "nbconvert_exporter": "python",
   "pygments_lexer": "ipython3",
   "version": "3.11.7"
  }
 },
 "nbformat": 4,
 "nbformat_minor": 5
}
